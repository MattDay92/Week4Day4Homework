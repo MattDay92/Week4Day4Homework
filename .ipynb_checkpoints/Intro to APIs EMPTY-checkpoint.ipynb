{
 "cells": [
  {
   "cell_type": "markdown",
   "id": "7196054f",
   "metadata": {},
   "source": [
    "# Working with APIs"
   ]
  },
  {
   "cell_type": "markdown",
   "id": "0547b71e",
   "metadata": {},
   "source": [
    "API stands for Application programming interface<br>\n",
    "APIs are a way for applications to talk to eachother<br>\n",
    "In python we use the requests package to handle the connection<br>\n",
    "<small><strong>Note: It is requests with an s not request(this is a different package)</strong></small><br>\n",
    "Most API's communicate with data in the form of JSON<br>\n",
    "JSON stands for JavaScript Object Notation"
   ]
  },
  {
   "cell_type": "code",
   "execution_count": 1,
   "id": "4db9d154",
   "metadata": {},
   "outputs": [],
   "source": [
    "#import the packages we need:\n",
    "import requests, json\n"
   ]
  },
  {
   "cell_type": "markdown",
   "id": "e8c2ce51",
   "metadata": {},
   "source": [
    "We will be connecting to the Ergast F1 Racer API today:\n",
    "http://ergast.com/mrd/\n",
    "\n",
    "to view JSON data nicely in the Chrome browser install the extension JSONview"
   ]
  },
  {
   "cell_type": "code",
   "execution_count": 19,
   "id": "52c440c6",
   "metadata": {},
   "outputs": [],
   "source": [
    "url = \"http://ergast.com/api/f1/2008/5/driverStandings.json\""
   ]
  },
  {
   "cell_type": "code",
   "execution_count": 20,
   "id": "f60c1b4a",
   "metadata": {},
   "outputs": [
    {
     "name": "stdout",
     "output_type": "stream",
     "text": [
      "<Response [200]>\n",
      "<class 'requests.models.Response'>\n"
     ]
    }
   ],
   "source": [
    "response = requests.get(url)\n",
    "print(response)\n",
    "print(type(response))\n",
    "\n",
    "# It takes a while because it's going over the internet to get the information\n",
    "# Response [200] is an HTTP code - tells if there's an error"
   ]
  },
  {
   "cell_type": "code",
   "execution_count": 22,
   "id": "7b63a204",
   "metadata": {},
   "outputs": [
    {
     "name": "stdout",
     "output_type": "stream",
     "text": [
      "True\n",
      "200\n",
      "['Kimi Räikkönen drove a Ferrari.  ', 'Felipe Massa drove a Ferrari.  ', 'Lewis Hamilton drove a McLaren.  ', 'Robert Kubica drove a BMW Sauber.  ', 'Nick Heidfeld drove a BMW Sauber.  ', 'Heikki Kovalainen drove a McLaren.  ', 'Mark Webber drove a Red Bull.  ', 'Fernando Alonso drove a Renault.  ', 'Jarno Trulli drove a Toyota.  ', 'Nico Rosberg drove a Williams.  ', 'Kazuki Nakajima drove a Williams.  ', 'Jenson Button drove a Honda.  ', 'Sébastien Bourdais drove a Toro Rosso.  ', 'David Coulthard drove a Red Bull.  ', 'Timo Glock drove a Toyota.  ', 'Giancarlo Fisichella drove a Force India.  ', 'Rubens Barrichello drove a Honda.  ', 'Nelson Piquet Jr. drove a Renault.  ', 'Takuma Sato drove a Super Aguri.  ', 'Anthony Davidson drove a Super Aguri.  ', 'Adrian Sutil drove a Force India.  ', 'Sebastian Vettel drove a Toro Rosso.  ']\n"
     ]
    }
   ],
   "source": [
    "#response object\n",
    "print(response.ok)\n",
    "print(response.status_code)\n",
    "\n",
    "if response.ok:\n",
    "    data = response.json()\n",
    "#     print(data)\n",
    "    ### prints all of the data from the URL in a dictionary\n",
    "    drivers = data['MRData']['StandingsTable']['StandingsLists'][0]['DriverStandings']\n",
    "    my_list = []\n",
    "    for info in drivers:\n",
    "        first_name = info['Driver']['givenName']\n",
    "        last_name = info['Driver']['familyName']\n",
    "        car = info['Constructors'][0]['name']\n",
    "        my_list.append(f'{first_name} {last_name} drove a {car}.  ')\n",
    "    print(my_list)"
   ]
  },
  {
   "cell_type": "code",
   "execution_count": 3,
   "id": "c6d1fdaf",
   "metadata": {},
   "outputs": [],
   "source": [
    "#check and make sure we got a successful response from the API\n"
   ]
  },
  {
   "cell_type": "code",
   "execution_count": 13,
   "id": "ed4d3256",
   "metadata": {},
   "outputs": [
    {
     "name": "stdout",
     "output_type": "stream",
     "text": [
      "What year did you want to search for?  1999\n",
      "['Eddie Irvine drove a Ferrari.  ', 'Heinz-Harald Frentzen drove a Jordan.  ', 'Ralf Schumacher drove a Williams.  ', 'Giancarlo Fisichella drove a Benetton.  ', 'Rubens Barrichello drove a Stewart.  ', 'Pedro de la Rosa drove a Arrows.  ', 'Toranosuke Takagi drove a Arrows.  ', 'Michael Schumacher drove a Ferrari.  ']\n"
     ]
    }
   ],
   "source": [
    "#view the response as a JSON\n",
    "year = input('What year did you want to search for?  ')\n",
    "url = f\"http://ergast.com/api/f1/{year}/1/driverStandings.json\"\n",
    "\n",
    "response = requests.get(url)\n",
    "\n",
    "if response.ok:\n",
    "    data = response.json()\n",
    "#     print(data)\n",
    "    ### prints all of the data from the URL in a dictionary\n",
    "    drivers = data['MRData']['StandingsTable']['StandingsLists'][0]['DriverStandings']\n",
    "    my_list = []\n",
    "    for info in drivers:\n",
    "        first_name = info['Driver']['givenName']\n",
    "        last_name = info['Driver']['familyName']\n",
    "        car = info['Constructors'][0]['name']\n",
    "        my_list.append(f'{first_name} {last_name} drove a {car}.  ')\n",
    "    print(my_list)\n",
    "else:\n",
    "    print('Invalid year.  Please try again.  ')"
   ]
  },
  {
   "cell_type": "markdown",
   "id": "6d546014",
   "metadata": {},
   "source": [
    "# <strong>Homework</strong>\n",
    "check out this Pokemon API https://pokeapi.co/\n",
    "Use the requests package to connect to this API and get and store data for 5 different pokemon.\n",
    "Get the pokemons: name, atleast one ability's name, base_experience, and the URL for its sprite (an image that shows up on screen) for the 'front_shiny', attack base_state, hp base_stat, defense base_stat"
   ]
  },
  {
   "cell_type": "code",
   "execution_count": 2,
   "id": "5a9081e3",
   "metadata": {},
   "outputs": [
    {
     "name": "stdout",
     "output_type": "stream",
     "text": [
      "Welcome to Pokedex!  \n",
      "What pokemon are you looking for?  Type \"quit\" to exit.  pikachu\n",
      "Name:  pikachu  \n",
      "Ability:  static  \n",
      "Base Experience:  112  \n",
      "Image:  https://raw.githubusercontent.com/PokeAPI/sprites/master/sprites/pokemon/shiny/25.png  \n",
      "Attack Base Stat:  55  \n",
      "HP Base Stat:  35  \n",
      "Defense Base Stat:  40\n",
      "\n",
      "What pokemon are you looking for?  Type \"quit\" to exit.  charizard\n",
      "Name:  charizard  \n",
      "Ability:  blaze  \n",
      "Base Experience:  267  \n",
      "Image:  https://raw.githubusercontent.com/PokeAPI/sprites/master/sprites/pokemon/shiny/6.png  \n",
      "Attack Base Stat:  84  \n",
      "HP Base Stat:  78  \n",
      "Defense Base Stat:  78\n",
      "\n",
      "What pokemon are you looking for?  Type \"quit\" to exit.  Ditto\n",
      "Name:  ditto  \n",
      "Ability:  limber  \n",
      "Base Experience:  101  \n",
      "Image:  https://raw.githubusercontent.com/PokeAPI/sprites/master/sprites/pokemon/shiny/132.png  \n",
      "Attack Base Stat:  48  \n",
      "HP Base Stat:  48  \n",
      "Defense Base Stat:  48\n",
      "\n",
      "What pokemon are you looking for?  Type \"quit\" to exit.  snorlax\n",
      "Name:  snorlax  \n",
      "Ability:  immunity  \n",
      "Base Experience:  189  \n",
      "Image:  https://raw.githubusercontent.com/PokeAPI/sprites/master/sprites/pokemon/shiny/143.png  \n",
      "Attack Base Stat:  110  \n",
      "HP Base Stat:  160  \n",
      "Defense Base Stat:  65\n",
      "\n",
      "What pokemon are you looking for?  Type \"quit\" to exit.  bulbasor\n",
      "Invalid entry.  Please try again.  \n",
      "What pokemon are you looking for?  Type \"quit\" to exit.  bulbasaur\n",
      "Name:  bulbasaur  \n",
      "Ability:  overgrow  \n",
      "Base Experience:  64  \n",
      "Image:  https://raw.githubusercontent.com/PokeAPI/sprites/master/sprites/pokemon/shiny/1.png  \n",
      "Attack Base Stat:  49  \n",
      "HP Base Stat:  45  \n",
      "Defense Base Stat:  49\n",
      "\n",
      "What pokemon are you looking for?  Type \"quit\" to exit.  quit\n",
      "Thank you for using Pokedex!  \n"
     ]
    }
   ],
   "source": [
    "# Use input statement to grab info from api\n",
    "\n",
    "print('Welcome to Pokedex!  ')\n",
    "while True:\n",
    "    choice = input('What pokemon are you looking for?  Type \"quit\" to exit.  ')\n",
    "    if choice.lower() == 'quit':\n",
    "        print('Thank you for using Pokedex!  ')\n",
    "        break\n",
    "    else:\n",
    "        url = f'https://pokeapi.co/api/v2/pokemon/{choice.lower()}'\n",
    "        response = requests.get(url)\n",
    "        if response.ok:\n",
    "            response = requests.get(url)\n",
    "            data = response.json()\n",
    "            pokemon = [data['name'], data['abilities'][0]['ability']['name'], data['base_experience'], data['sprites']['front_shiny'], data['stats'][1]['base_stat'], data['stats'][0]['base_stat'], data['stats'][2]['base_stat']]\n",
    "            print(f'Name:  {pokemon[0]}  \\nAbility:  {pokemon[1]}  \\nBase Experience:  {pokemon[2]}  \\nImage:  {pokemon[3]}  \\nAttack Base Stat:  {pokemon[4]}  \\nHP Base Stat:  {pokemon[5]}  \\nDefense Base Stat:  {pokemon[6]}\\n')\n",
    "        else:\n",
    "            print('Invalid entry.  Please try again.  ')\n",
    "    \n",
    "\n",
    "    "
   ]
  },
  {
   "cell_type": "code",
   "execution_count": null,
   "id": "512491ec",
   "metadata": {},
   "outputs": [],
   "source": []
  }
 ],
 "metadata": {
  "kernelspec": {
   "display_name": "Python 3 (ipykernel)",
   "language": "python",
   "name": "python3"
  },
  "language_info": {
   "codemirror_mode": {
    "name": "ipython",
    "version": 3
   },
   "file_extension": ".py",
   "mimetype": "text/x-python",
   "name": "python",
   "nbconvert_exporter": "python",
   "pygments_lexer": "ipython3",
   "version": "3.9.13"
  }
 },
 "nbformat": 4,
 "nbformat_minor": 5
}
